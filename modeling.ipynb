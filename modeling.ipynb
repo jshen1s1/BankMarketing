{
 "cells": [
  {
   "cell_type": "code",
   "execution_count": 1,
   "metadata": {},
   "outputs": [],
   "source": [
    "import numpy as np\n",
    "import pandas as pd\n",
    "import matplotlib.pyplot as plt\n",
    "from sklearn.preprocessing import StandardScaler\n",
    "from sklearn.model_selection import train_test_split \n",
    "from sklearn.metrics import accuracy_score\n",
    "from sklearn.linear_model import LogisticRegression\n",
    "from sklearn.neighbors import KNeighborsClassifier \n",
    "\n",
    "bank_info = pd.read_csv(\"./data/bank-full-cleaned.csv\",sep=';')\n",
    "bank_no_duration = pd.read_csv(\"./data/bank-no-duration.csv\",sep=';')"
   ]
  },
  {
   "cell_type": "code",
   "execution_count": 2,
   "metadata": {},
   "outputs": [],
   "source": [
    "# split data to independent and dependent variables\n",
    "x = bank_info.iloc[:, 0:15]\n",
    "y = bank_info.iloc[:, 16]\n",
    "\n",
    "x_nd = bank_no_duration.iloc[:, 0:14]\n",
    "y_nd = bank_no_duration.iloc[:, 15]"
   ]
  },
  {
   "cell_type": "code",
   "execution_count": 3,
   "metadata": {},
   "outputs": [],
   "source": [
    "# standard scaling \n",
    "SC = StandardScaler()\n",
    "x = SC.fit_transform(x)\n",
    "x_nd = SC.fit_transform(x_nd)"
   ]
  },
  {
   "cell_type": "code",
   "execution_count": 4,
   "metadata": {},
   "outputs": [],
   "source": [
    "# split data\n",
    "x_train, x_test, y_train, y_test = train_test_split(x, y, test_size=0.2, random_state=0)\n",
    "x_nd_train, x_nd_test, y_nd_train, y_nd_test = train_test_split(x_nd, y_nd, test_size=0.2, random_state=0)"
   ]
  },
  {
   "cell_type": "code",
   "execution_count": 5,
   "metadata": {},
   "outputs": [
    {
     "name": "stdout",
     "output_type": "stream",
     "text": [
      "Logistic regression model accuracy: 0.8886431493973239\n"
     ]
    }
   ],
   "source": [
    "# logistic regression\n",
    "classifier = LogisticRegression()\n",
    "classifier.fit(x_train, y_train)\n",
    "\n",
    "y_pred = classifier.predict(x_test)\n",
    "\n",
    "print(\"Logistic regression model accuracy:\", accuracy_score(y_test,y_pred)) "
   ]
  },
  {
   "cell_type": "code",
   "execution_count": 6,
   "metadata": {},
   "outputs": [
    {
     "name": "stdout",
     "output_type": "stream",
     "text": [
      "KNN model accuracy: 0.8816764348114564\n"
     ]
    }
   ],
   "source": [
    "# K-NN\n",
    "knn = KNeighborsClassifier(n_neighbors=3)\n",
    "knn.fit(x_train, y_train) \n",
    "\n",
    "y_pred = knn.predict(x_test) \n",
    "\n",
    "print(\"KNN model accuracy:\", accuracy_score(y_test,y_pred)) "
   ]
  },
  {
   "cell_type": "code",
   "execution_count": 7,
   "metadata": {},
   "outputs": [
    {
     "name": "stdout",
     "output_type": "stream",
     "text": [
      "Logistic regression model accuracy: 0.8823399314386818\n"
     ]
    }
   ],
   "source": [
    "# logistic regression\n",
    "classifier = LogisticRegression()\n",
    "classifier.fit(x_nd_train, y_nd_train)\n",
    "\n",
    "y_nd_pred = classifier.predict(x_nd_test)\n",
    "\n",
    "\n",
    "print(\"Logistic regression model accuracy:\", accuracy_score(y_nd_test,y_nd_pred)) "
   ]
  },
  {
   "cell_type": "code",
   "execution_count": 8,
   "metadata": {},
   "outputs": [
    {
     "name": "stdout",
     "output_type": "stream",
     "text": [
      "KNN model accuracy: 0.8685170850381511\n"
     ]
    }
   ],
   "source": [
    "# K-NN\n",
    "knn = KNeighborsClassifier(n_neighbors=3)\n",
    "knn.fit(x_nd_train, y_nd_train) \n",
    "\n",
    "y_nd_pred = knn.predict(x_nd_test) \n",
    "\n",
    "print(\"KNN model accuracy:\", accuracy_score(y_nd_test,y_nd_pred)) "
   ]
  }
 ],
 "metadata": {
  "kernelspec": {
   "display_name": "Python 3",
   "language": "python",
   "name": "python3"
  },
  "language_info": {
   "codemirror_mode": {
    "name": "ipython",
    "version": 3
   },
   "file_extension": ".py",
   "mimetype": "text/x-python",
   "name": "python",
   "nbconvert_exporter": "python",
   "pygments_lexer": "ipython3",
   "version": "3.11.5"
  }
 },
 "nbformat": 4,
 "nbformat_minor": 2
}
